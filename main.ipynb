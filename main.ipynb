{
 "cells": [
  {
   "cell_type": "code",
   "execution_count": null,
   "metadata": {
    "ExecuteTime": {
     "end_time": "2021-12-28T02:45:46.844248Z",
     "start_time": "2021-12-28T02:45:46.841951Z"
    },
    "colab": {
     "base_uri": "https://localhost:8080/"
    },
    "executionInfo": {
     "elapsed": 5205,
     "status": "ok",
     "timestamp": 1650936818408,
     "user": {
      "displayName": "zhenqin chen",
      "userId": "05940870450023874916"
     },
     "user_tz": -480
    },
    "id": "rah5ushy9lzw",
    "outputId": "a765da65-bbe9-4274-ef5a-fd1fb8c07004"
   },
   "outputs": [],
   "source": [
    "from google.colab import drive\n",
    "drive.mount('/content/drive', force_remount=True)#, force_remount=True"
   ]
  },
  {
   "cell_type": "code",
   "execution_count": null,
   "metadata": {
    "ExecuteTime": {
     "end_time": "2021-12-28T02:45:46.870511Z",
     "start_time": "2021-12-28T02:45:46.845921Z"
    },
    "colab": {
     "base_uri": "https://localhost:8080/"
    },
    "executionInfo": {
     "elapsed": 682,
     "status": "ok",
     "timestamp": 1650936819080,
     "user": {
      "displayName": "zhenqin chen",
      "userId": "05940870450023874916"
     },
     "user_tz": -480
    },
    "id": "cw_u8yId5HcK",
    "outputId": "20e0f33c-d17b-47e5-f1c3-3a2d17b56d3e"
   },
   "outputs": [],
   "source": [
    "!pip install wfdb==3.0.1\n"
   ]
  },
  {
   "cell_type": "markdown",
   "metadata": {
    "id": "LMqAxceUJ6fx"
   },
   "source": []
  },
  {
   "cell_type": "code",
   "execution_count": null,
   "metadata": {
    "ExecuteTime": {
     "end_time": "2021-12-28T02:45:47.014772Z",
     "start_time": "2021-12-28T02:45:46.873006Z"
    },
    "colab": {
     "base_uri": "https://localhost:8080/"
    },
    "executionInfo": {
     "elapsed": 15,
     "status": "ok",
     "timestamp": 1650936819082,
     "user": {
      "displayName": "zhenqin chen",
      "userId": "05940870450023874916"
     },
     "user_tz": -480
    },
    "id": "v8eEhVON8V2S",
    "outputId": "3c645795-5d29-4f61-986f-cec976e182e0"
   },
   "outputs": [],
   "source": [
    "# 总体参数\n",
    "%load_ext autoreload\n",
    "%autoreload 2\n",
    "root_dir = '/content/drive/MyDrive/ecg_segmention/ecg/keras'\n",
    "\n",
    "import os\n",
    "os.chdir(root_dir)\n",
    "\n",
    "os.environ['KMP_DUPLICATE_LIB_OK']='True'\n"
   ]
  },
  {
   "cell_type": "code",
   "execution_count": null,
   "metadata": {
    "ExecuteTime": {
     "end_time": "2021-12-28T02:45:48.070447Z",
     "start_time": "2021-12-28T02:45:47.017003Z"
    },
    "colab": {
     "base_uri": "https://localhost:8080/"
    },
    "executionInfo": {
     "elapsed": 13,
     "status": "ok",
     "timestamp": 1650936819083,
     "user": {
      "displayName": "zhenqin chen",
      "userId": "05940870450023874916"
     },
     "user_tz": -480
    },
    "id": "Z2JccTFX8ZuS",
    "outputId": "c59e5592-80f7-4c4f-bcf9-872e0cb881fd"
   },
   "outputs": [],
   "source": [
    "import os\n",
    "\n",
    "import utils.data_util as du\n",
    "import utils.file_util as fu\n",
    "from utils.utils import setup_gpu\n",
    "from utils.postprocess import get_predict_points, print_points_accuracy\n",
    "\n",
    "from sklearn.model_selection import KFold\n",
    "\n",
    "from utils.Config import Config\n",
    "\n",
    "from utils.models.model import get_model\n",
    "\n",
    "import numpy as np\n",
    "import random\n",
    "from tensorflow.keras.models import load_model\n",
    "import copy\n",
    "import tensorflow as tf\n",
    "from tensorflow import keras\n",
    "from random import shuffle\n",
    "import pandas as pd\n",
    "\n",
    "\n",
    "from tensorflow.keras.callbacks import EarlyStopping\n",
    "\n",
    "\n",
    "from sklearn.metrics import classification_report\n",
    "from sklearn.metrics._plot import confusion_matrix\n",
    "\n",
    "from utils.utils import plot_confusion_matrix\n"
   ]
  },
  {
   "cell_type": "code",
   "execution_count": null,
   "metadata": {},
   "outputs": [],
   "source": [
    "def setup_seed(seed):\n",
    "    np.random.seed(seed)\n",
    "    random.seed(seed)\n",
    "    tf.random.set_seed(seed)\n",
    "    os.environ['PYTHONHASHSEED']=str(seed)\n",
    "\n",
    "   \n",
    "setup_gpu('0')"
   ]
  },
  {
   "cell_type": "code",
   "execution_count": null,
   "metadata": {
    "ExecuteTime": {
     "end_time": "2021-12-28T02:45:48.124786Z",
     "start_time": "2021-12-28T02:45:48.072976Z"
    },
    "id": "_ifi0y5JhprM"
   },
   "outputs": [],
   "source": [
    "\n",
    "        \n",
    "\n",
    "    \n",
    "    "
   ]
  },
  {
   "cell_type": "code",
   "execution_count": null,
   "metadata": {},
   "outputs": [],
   "source": [
    "\n",
    "\n",
    "def train(model, config):\n",
    "\n",
    "    x_train, y_train,y_p_train, y_name_train,x_val, y_val, y_p_val,y_name_val, x_test, y_test, y_p_test,y_name_test = config.data\n",
    "    y_train = keras.utils.to_categorical(y_train, num_classes=4, dtype='float32')\n",
    "    y_val = keras.utils.to_categorical(y_val, num_classes=4, dtype='float32')\n",
    "    callback = keras.callbacks.EarlyStopping(monitor='val_accuracy', min_delta=0, patience=4, verbose=0, mode='auto', baseline=None, restore_best_weights=True)\n",
    "\n",
    "    history = model.fit(x_train, y_train, batch_size= config.batch_size, epochs=config.epochs, validation_data = (x_val,y_val), verbose=config.train_verbose,callbacks=[callback])\n",
    "\n",
    "    model.save(config.fname_model)\n",
    "\n",
    "    ft.save(history.history, config.fname_history)\n",
    "\n",
    "    return history\n",
    "\n",
    "\n",
    "\n",
    "\n",
    "def eval(ecgs, y_true, y_pred, labels, target_names, plot_conf_matrix=False, config = None):\n",
    "    history = ft.load(config.fname_history)\n",
    "    plot_results(history)\n",
    "    \n",
    "    y_true = y_true.flatten()\n",
    "    y_pred = y_pred.flatten()\n",
    "\n",
    "    if plot_conf_matrix:\n",
    "        conf_mat = confusion_matrix.confusion_matrix(y_true=y_true, y_pred=y_pred, labels=labels)\n",
    "\n",
    "        plot_confusion_matrix(\n",
    "            confusion_matrix=conf_mat,\n",
    "            target_names=target_names,\n",
    "            title='Confusion matrix',\n",
    "            normalize=True\n",
    "        )\n",
    "\n",
    "    report = classification_report(y_true=y_true, y_pred=y_pred, digits = 4, labels=labels, target_names=target_names)\n",
    "    \n",
    "    print('Report: ' + str(report))"
   ]
  },
  {
   "cell_type": "code",
   "execution_count": null,
   "metadata": {
    "ExecuteTime": {
     "end_time": "2021-12-28T02:45:48.247677Z",
     "start_time": "2021-12-28T02:45:48.192354Z"
    },
    "id": "R2WJtJZ6hprP"
   },
   "outputs": [],
   "source": [
    "def evaluation(points, points_pred,ecgs=None,ecg_names=None,config=None,verbose = False):\n",
    "\n",
    "    points = np.array(points)\n",
    "    points_pred = np.array(points_pred)\n",
    "    \n",
    "    L = points.shape[0]\n",
    "    size = points.shape[1]\n",
    "\n",
    "    results = []\n",
    "    FC = 250\n",
    "    tol_default = 150\n",
    "    tolerances = [40,70,tol_default]\n",
    "    \n",
    "    output = []\n",
    "    for tol in tolerances:\n",
    "        sens = np.zeros((size))\n",
    "        TP = np.zeros((size))\n",
    "        FN = np.zeros((size))\n",
    "        for i in range(size):\n",
    "            for j in range(L):\n",
    "                if points_pred[j, i] == -1:\n",
    "                    if points[j,i] != -1:\n",
    "                        FN[i]+=1                       \n",
    "                else:\n",
    "                    diff = points[j,i] - points_pred[j,i]\n",
    "                    diff_abs = np.abs(diff)\n",
    "                    if diff_abs < FC/1000 * tol:\n",
    "                        sens[i] += 1\n",
    "                        TP[i] += 1\n",
    "                    else:\n",
    "                        FN[i] += 1\n",
    "        \n",
    "        sens = TP/(TP + FN) *100\n",
    "        output.append(sens)\n",
    "        results.append(np.round(sens,2))\n",
    "\n",
    "        if tol == tol_default:\n",
    "            print(TP,FN)\n",
    "            print('SENS:', np.round(sens,2))\n",
    "\n",
    "        \n",
    "    \n",
    "    errors = []\n",
    "    for i in range(size):\n",
    "        err = []\n",
    "        for j in range(L):\n",
    "            if points_pred[j,i] == -1 or points[j,i] == -1:\n",
    "                continue\n",
    "            diff = points[j,i] - points_pred[j,i]\n",
    "            diff_abs = np.abs(diff)\n",
    "            if diff_abs < FC/1000 * tol_default:\n",
    "                err.append(diff *1000/FC)\n",
    "        errors.append(err)\n",
    "    errors = np.array(errors)\n",
    "\n",
    "\n",
    "    print('ERROR:', end=' ')\n",
    "    errors_tuple = ('error','-')\n",
    "    errors_result = []\n",
    "    err_means = np.zeros((6))\n",
    "    err_stds = np.zeros((6))\n",
    "    for i in range(6):\n",
    "        err_m = np.mean(errors[i])\n",
    "        err_s = np.std(errors[i])\n",
    "        err_means[i]= err_m\n",
    "        err_stds[i] = err_s\n",
    "        tmp = \"{:.1f}+{:.1f}\".format(err_m, err_s)\n",
    "        errors_result.append(tmp)\n",
    "        errors_tuple = errors_tuple + (tmp,)\n",
    "        print(tmp,end=' ')\n",
    "    print('')\n",
    "    output.append(err_means)\n",
    "    output.append(err_stds)\n",
    "    output = np.array(output)\n",
    "    results.append(errors_result)\n",
    "    print(results)\n",
    " \n",
    "    return results, output"
   ]
  },
  {
   "cell_type": "code",
   "execution_count": null,
   "metadata": {},
   "outputs": [],
   "source": [
    "\n",
    "def qtdb_split(record_list):\n",
    "    bih_list = ['sel30','sel31','sel32','sel33','sel34','sel35','sel36',\n",
    "         'sel37','sel38','sel39','sel40','sel41','sel42','sel43','sel44','sel45','sel46','sel47',\n",
    "         'sel48','sel49','sel50','sel51','sel52','sel17152']\n",
    "    stt_list = []\n",
    "    for idx in range(len(record_list)):\n",
    "        if 'sele' in record_list[idx]:\n",
    "            stt_list.append(record_list[idx])\n",
    "    delete_index = []\n",
    "    for idx in range(len(record_list)):\n",
    "        if (record_list[idx] in stt_list) or (record_list[idx] in bih_list):\n",
    "            delete_index.append(idx)\n",
    "    mit_list = np.delete(record_list, delete_index)\n",
    "   \n",
    "    idx = []\n",
    "    random.seed(config.seed)\n",
    "    all_list = [bih_list, stt_list, mit_list]\n",
    "    \n",
    "    for r_list in all_list:     \n",
    "        shuffle(r_list)\n",
    "    for i in range(5):\n",
    "        ratio = [i*0.2,(i+1)*0.2] \n",
    "        train_idx,test_idx = [],[]\n",
    "        for r_list in all_list:          \n",
    "            train_idx_tmp, test_idx_tmp = __split_train_test__(r_list, ratio)\n",
    "            train_idx.extend(train_idx_tmp)\n",
    "            test_idx.extend(test_idx_tmp)\n",
    "        idx.append((train_idx, test_idx))\n",
    "    return idx\n",
    "\n",
    "def __split_train_test__(r_list, ratio = [0.8, 1]):\n",
    "    r_list = np.array(r_list)\n",
    "    cnt = len(r_list)\n",
    "    test_start = int(ratio[0]*cnt)\n",
    "    test_end = int(ratio[1]*cnt)\n",
    "    test_idx =  r_list[test_start:test_end]\n",
    "    delete_index = []\n",
    "    for idx in range(len(r_list)):\n",
    "        if r_list[idx] in test_idx:\n",
    "            delete_index.append(idx)\n",
    "    train_idx = np.delete(r_list, delete_index)\n",
    "    return train_idx,test_idx\n",
    "\n"
   ]
  },
  {
   "cell_type": "code",
   "execution_count": null,
   "metadata": {
    "ExecuteTime": {
     "end_time": "2021-12-28T02:45:48.297835Z",
     "start_time": "2021-12-28T02:45:48.249549Z"
    },
    "code_folding": [],
    "id": "JhejU7svljp_"
   },
   "outputs": [],
   "source": [
    "def exec(config):\n",
    "   \n",
    "    SEED = config.seed\n",
    "    DATASET = config.dataset\n",
    "    WINDOWS_SIZE = config.wave_len\n",
    "    EPOCHS = config.epochs\n",
    "    BATCH_SIZE = config.batch_size\n",
    "    NUM_SEGS_CLASS = 4\n",
    "    FC = config.fc\n",
    "\n",
    "    file_prefix = config.file_prefix\n",
    "\n",
    "    setup_seed(config.seed)\n",
    "    MODEL_INSTNACE = get_model(config)\n",
    "\n",
    "    x_train, y_train,y_p_train, y_name_train,x_val, y_val, y_p_val,y_name_val, x_test, y_test, y_p_test,y_name_test = config.data\n",
    "\n",
    "\n",
    "\n",
    "    train(\n",
    "      MODEL_INSTNACE,\n",
    "      config = config\n",
    "    )\n",
    "\n",
    "    model = load_model(config.fname_model)\n",
    "\n",
    "    y_test = keras.utils.to_categorical(y_test, num_classes=4, dtype='float32')\n",
    "\n",
    "    _,acc = model.evaluate(x_test, y_test, verbose=0) \n",
    "    y_pred = model.predict(x_test)\n",
    "\n",
    "    ecgs_list = x_test\n",
    "    names_list = y_name_test\n",
    "    labels_list = np.argmax(y_test,  axis=2)\n",
    "    predicted_list = np.argmax(y_pred, axis=2)\n",
    "\n",
    "    \n",
    "    return ecgs_list, labels_list, predicted_list, names_list#, acc\n",
    "\n",
    "\n"
   ]
  },
  {
   "cell_type": "code",
   "execution_count": null,
   "metadata": {
    "ExecuteTime": {
     "end_time": "2021-12-28T02:45:48.358451Z",
     "start_time": "2021-12-28T02:45:48.299617Z"
    },
    "id": "nFUa4g4Jq_m4"
   },
   "outputs": [],
   "source": [
    "def make_crossvalidation(config, kfold_splits = 5):\n",
    "    results =[]\n",
    "    details = []\n",
    "    setup_seed(config.seed)\n",
    "    if config.train:\n",
    "        dataset = config.dataset\n",
    "    else:\n",
    "        dataset = config.test_dataset\n",
    "    \n",
    "    data, labels = fu.load(config.fname_data)\n",
    "    actual_labels = None\n",
    "    if(dataset == 'qtdb'):\n",
    "        record_list = du.get_ids(Config.QTDB_RECORD_DIR)\n",
    "    elif (dataset == 'ludb'):\n",
    "        record_list = du.get_ids(Config.LUDB_RECORD_DIR)\n",
    "\n",
    "\n",
    "    for record in record_list:\n",
    "        if(record not in data.keys() or len(data[record]) == 0)\n",
    "            record_list = np.delete(record_list, np.where(record_list== record))\n",
    "    \n",
    "    kf = KFold(n_splits=kfold_splits, shuffle=True)\n",
    "    \n",
    "    time = 1\n",
    "    ecgs = []\n",
    "    y_labels = []\n",
    "    y_predicts = []\n",
    "    ecg_names = []\n",
    "    point_labels = []\n",
    "   \n",
    "    if dataset == 'ludb':\n",
    "        fold_idx = kf.split(record_list)\n",
    "    else:\n",
    "        fold_idx = qtdb_split(record_list)\n",
    "\n",
    "    for train_idx, test_idx in fold_idx:\n",
    "        print('5 fold-No.',time)\n",
    "\n",
    "        if dataset== 'ludb':\n",
    "            data_, labels_,_ = fu.load(config.fname_data)\n",
    "            x_train, y_train, y_p_train,y_name_train = du.__get_data__(data_, labels_,actual_labels, record_list[train_idx], config)\n",
    "            x_test, y_test, y_p_test,y_name_test = du.__get_data__(data, labels,actual_labels, record_list[test_idx], config)\n",
    "        else:\n",
    "            data_, labels_,_ = fu.load(config.fname_data)\n",
    "            x_train, y_train, y_p_train,y_name_train = du.__get_data__(data_, labels_,actual_labels, train_idx, config)\n",
    "            x_test, y_test, y_p_test,y_name_test = du.__get_data__(data, labels,actual_labels, test_idx, config)\n",
    "        print(x_train.shape[0] + x_test.shape[0], x_train.shape,\n",
    "            x_test.shape)\n",
    " \n",
    "        config.data =  x_train, y_train,y_p_train, y_name_train, x_test, y_test, y_p_test,y_name_test, x_test, y_test, y_p_test,y_name_test\n",
    "\n",
    "        if time == 1:\n",
    "            ecgs, y_labels, predicts,ecg_names = exec(config)\n",
    "            ecg_names = list(ecg_names)\n",
    "            point_labels = y_p_test\n",
    "        else:   \n",
    "            ecgs_list, labels_list, predicted_list,names_list = exec(config)\n",
    "            ecgs = np.vstack((ecgs, ecgs_list))\n",
    "            y_labels = np.vstack((y_labels, labels_list))\n",
    "            predicts = np.vstack((predicts, predicted_list))\n",
    "            point_labels = np.vstack((point_labels, y_p_test))\n",
    "            ecg_names.extend(list(names_list))\n",
    "        time += 1\n",
    "\n",
    "            \n",
    "    \n",
    "  \n",
    "    fu.save((ecgs, y_labels, predicts, ecg_names, point_labels, config), Config.RESOURCES_DIR + '/result/' + config.dataset + '.pkl')\n",
    "    points_pred = get_predict_points(predicts)\n",
    "    results_detail,output = evaluation(point_labels, points_pred,ecgs,ecg_names,config,verbose=False)\n",
    "    \n",
    "    \n",
    "    eval(\n",
    "      ecgs=ecgs,\n",
    "      y_true=y_labels,\n",
    "      y_pred=predicts,\n",
    "      labels=[0, Config.P_H, Config.QRS_H, Config.T_H],\n",
    "      target_names=['none', 'p_wave', 'qrs', 't_wave'],\n",
    "\n",
    "      plot_conf_matrix=True,\n",
    "      plot_ecg=True,\n",
    "      plot_ecg_windows_size=config.wave_len,\n",
    "      config = config\n",
    "    )\n",
    "\n",
    "    return output\n",
    "   \n"
   ]
  },
  {
   "cell_type": "code",
   "execution_count": null,
   "metadata": {
    "ExecuteTime": {
     "end_time": "2021-12-28T07:19:28.816708Z",
     "start_time": "2021-12-28T07:17:51.363613Z"
    },
    "code_folding": [],
    "colab": {
     "base_uri": "https://localhost:8080/",
     "height": 1000
    },
    "executionInfo": {
     "elapsed": 1029639,
     "status": "ok",
     "timestamp": 1650939559974,
     "user": {
      "displayName": "zhenqin chen",
      "userId": "05940870450023874916"
     },
     "user_tz": -480
    },
    "id": "AC2r5fEunJYF",
    "outputId": "34697439-c1da-47cf-946f-6b4a2c308c00",
    "scrolled": true
   },
   "outputs": [],
   "source": [
    "config = Config()\n",
    "config.dataset = 'ludb'\n",
    "config.refresh()\n",
    "config.print()\n",
    "output = make_crossvalidation(config)\n",
    "\n"
   ]
  }
 ],
 "metadata": {
  "accelerator": "GPU",
  "colab": {
   "collapsed_sections": [],
   "name": "main_R_peak-2022-04-24.ipynb",
   "provenance": []
  },
  "kernelspec": {
   "display_name": "Python 3 (ipykernel)",
   "language": "python",
   "name": "python3"
  },
  "language_info": {
   "codemirror_mode": {
    "name": "ipython",
    "version": 3
   },
   "file_extension": ".py",
   "mimetype": "text/x-python",
   "name": "python",
   "nbconvert_exporter": "python",
   "pygments_lexer": "ipython3",
   "version": "3.7.8"
  },
  "toc": {
   "base_numbering": 1,
   "nav_menu": {},
   "number_sections": true,
   "sideBar": true,
   "skip_h1_title": false,
   "title_cell": "Table of Contents",
   "title_sidebar": "Contents",
   "toc_cell": false,
   "toc_position": {},
   "toc_section_display": true,
   "toc_window_display": false
  },
  "varInspector": {
   "cols": {
    "lenName": 16,
    "lenType": 16,
    "lenVar": 40
   },
   "kernels_config": {
    "python": {
     "delete_cmd_postfix": "",
     "delete_cmd_prefix": "del ",
     "library": "var_list.py",
     "varRefreshCmd": "print(var_dic_list())"
    },
    "r": {
     "delete_cmd_postfix": ") ",
     "delete_cmd_prefix": "rm(",
     "library": "var_list.r",
     "varRefreshCmd": "cat(var_dic_list()) "
    }
   },
   "types_to_exclude": [
    "module",
    "function",
    "builtin_function_or_method",
    "instance",
    "_Feature"
   ],
   "window_display": false
  }
 },
 "nbformat": 4,
 "nbformat_minor": 1
}
